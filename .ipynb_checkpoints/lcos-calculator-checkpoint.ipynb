{
 "cells": [
  {
   "cell_type": "markdown",
   "metadata": {},
   "source": [
    "# lcos-calculator.com"
   ]
  },
  {
   "cell_type": "markdown",
   "metadata": {},
   "source": [
    "Welcome to world's first LCOS calculator!\n",
    "\n",
    "You can calclate the \"Levelised Cost Of Storage\" for your project according to this formula:\n",
    "\n",
    "$$LCOS = \\frac{CAPEX + \\sum_{t=1}^{t=n} \\frac{OPEX_{t}}{(1+i)^t} + V_{\\mathrm{residual}}}{\\sum_{t=1}^{t=n} \\frac{E_{\\mathrm{discharge} \\: t}}{(1+i)^t}}$$"
   ]
  },
  {
   "cell_type": "code",
   "execution_count": 3,
   "metadata": {},
   "outputs": [],
   "source": [
    "import matplotlib.pylab as plt\n",
    "import numpy as np\n",
    "from ipywidgets import interact,FloatSlider,IntSlider,widgets, interactive, interactive_output\n",
    "from ipywidgets.embed import embed_minimal_html\n",
    "from ipywidgets import HBox, Label\n",
    "from ipywidgets import Button, HBox, VBox, SelectionRangeSlider, Layout\n",
    "from ipywidgets import Button, GridBox, Layout, ButtonStyle"
   ]
  },
  {
   "cell_type": "code",
   "execution_count": 4,
   "metadata": {},
   "outputs": [
    {
     "data": {
      "text/html": [
       "<script>\n",
       "code_show=true; \n",
       "function code_toggle() {\n",
       " if (code_show){\n",
       " $('div.input').hide();\n",
       " } else {\n",
       " $('div.input').show();\n",
       " }\n",
       " code_show = !code_show\n",
       "} \n",
       "$( document ).ready(code_toggle);\n",
       "</script>\n",
       "<form action=\"javascript:code_toggle()\"><input type=\"submit\" value=\"Click here to toggle on/off the raw code.\"></form>"
      ],
      "text/plain": [
       "<IPython.core.display.HTML object>"
      ]
     },
     "execution_count": 4,
     "metadata": {},
     "output_type": "execute_result"
    }
   ],
   "source": [
    "from IPython.display import HTML\n",
    "\n",
    "HTML('''<script>\n",
    "code_show=true; \n",
    "function code_toggle() {\n",
    " if (code_show){\n",
    " $('div.input').hide();\n",
    " } else {\n",
    " $('div.input').show();\n",
    " }\n",
    " code_show = !code_show\n",
    "} \n",
    "$( document ).ready(code_toggle);\n",
    "</script>\n",
    "<form action=\"javascript:code_toggle()\"><input type=\"submit\" value=\"Click here to toggle on/off the raw code.\"></form>''')"
   ]
  },
  {
   "cell_type": "code",
   "execution_count": 2,
   "metadata": {},
   "outputs": [
    {
     "data": {
      "application/vnd.jupyter.widget-view+json": {
       "model_id": "2e8e3576044e4c81880cf7ccdb5593a6",
       "version_major": 2,
       "version_minor": 0
      },
      "text/plain": [
       "HBox(children=(VBox(children=(Button(description='Info:', layout=Layout(grid_area='main', width='auto'), style…"
      ]
     },
     "metadata": {},
     "output_type": "display_data"
    }
   ],
   "source": [
    "def lcos_print(spec_cost, o_n_m, pv_lcoe, v_res, n, e, dod, life, i):\n",
    "    capex = e * spec_cost\n",
    "    opex = o_n_m + (dod*e*pv_lcoe)\n",
    "    flows = np.full(life+1, opex)\n",
    "    flows[0]=capex\n",
    "    lcc = np.npv(i,flows) + v_res\n",
    "    E = e*dod*n\n",
    "    flows_e = np.full(life+1, E)\n",
    "    flows_e[0]=0\n",
    "    e_dis = np.npv(i,flows_e)\n",
    "    lcos = lcc/e_dis\n",
    "    print(\"\\033[1m   LCOS: {:.4f} US$/kWh   \\033[0m\".format(lcos))\n",
    "\n",
    "w = interactive(lcos_print, \n",
    "            spec_cost = FloatSlider(min=0, max=1000, step=0.1, value=400, description = \" \"), \n",
    "            o_n_m = FloatSlider(min=0, max=400, step=0.1, value=4, description = \" \"),\n",
    "            pv_lcoe = FloatSlider(min=0, max=1, step=0.01, value=0.075, description = \" \"),\n",
    "            v_res = FloatSlider(min=0, max=1000, step=0.1, value=0, description = \" \"),\n",
    "            n = IntSlider(min=0, max=365, value=365, description = \" \"),\n",
    "            e = FloatSlider(min=0, max=10000, step=0.1, value=1000, description = \" \"),\n",
    "            dod = FloatSlider(min=0, max=1, step=0.01, value=0.8, description = \" \"),\n",
    "            life = IntSlider(min=0, max=100, value=10, description = \" \"),\n",
    "            i = FloatSlider(min=0, max=2, step=0.01, value=0.06, description = \" \"))\n",
    "\n",
    "type(w)\n",
    "w.children\n",
    "\n",
    "box_layout = Layout(display='flex',\n",
    "                    flex_flow='row',\n",
    "                    align_items='stretch',\n",
    "                    border='solid',\n",
    "                    width='100%')\n",
    "\n",
    "left_box = VBox([Button(description='Info:', layout=Layout(width='auto', grid_area='main'), style=ButtonStyle(button_color='moccasin')),\n",
    "                 Label('Specific investment in USD/kWh:'),\n",
    "                 Label('Annual operation and maintenance cost in USD/(kWh*a):'),\n",
    "                 Label('PV LCOE in USD/kWh'),\n",
    "                 Label('Residual value in USD:'),\n",
    "                 Label('Number of cycles per year:'),\n",
    "                 Label('Nominal energy storage capacity in kWh:'),\n",
    "                 Label('Depth of discharge:'),\n",
    "                 Label('Lifetime in years:'),\n",
    "                 Label('Discount rate:')])\n",
    "central_box = VBox([Label(' '), w])\n",
    "right_box = VBox([Button(description='Typical value range for Li-Ion battery', layout=Layout(width='auto', grid_area='main'), style=ButtonStyle(button_color='moccasin')),\n",
    "                  Label('200 - 400 at the moment'),\n",
    "                  Label('1-5% of investment'),\n",
    "                  Label('0.075 USD for Singapore'),\n",
    "                  Label('hard to tell...'),\n",
    "                  Label('365, if 1 cycle per day'),\n",
    "                  Label('does not influence the LCOS'),\n",
    "                  Label('0.8-0.9'),\n",
    "                  Label('10 yeary maybe'),\n",
    "                  Label('0.063 for Singapore')])\n",
    "\n",
    "HBox([left_box, central_box, right_box], layout=box_layout)"
   ]
  },
  {
   "cell_type": "code",
   "execution_count": null,
   "metadata": {},
   "outputs": [],
   "source": []
  },
  {
   "cell_type": "code",
   "execution_count": null,
   "metadata": {},
   "outputs": [],
   "source": []
  }
 ],
 "metadata": {
  "kernelspec": {
   "display_name": "Python 3",
   "language": "python",
   "name": "python3"
  },
  "language_info": {
   "codemirror_mode": {
    "name": "ipython",
    "version": 3
   },
   "file_extension": ".py",
   "mimetype": "text/x-python",
   "name": "python",
   "nbconvert_exporter": "python",
   "pygments_lexer": "ipython3",
   "version": "3.6.8"
  },
  "widgets": {
   "application/vnd.jupyter.widget-state+json": {
    "state": {},
    "version_major": 2,
    "version_minor": 0
   }
  }
 },
 "nbformat": 4,
 "nbformat_minor": 2
}
