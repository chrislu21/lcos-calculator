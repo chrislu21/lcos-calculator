{
 "cells": [
  {
   "cell_type": "markdown",
   "metadata": {},
   "source": [
    "# lcos-calculator.com"
   ]
  },
  {
   "cell_type": "markdown",
   "metadata": {},
   "source": [
    "Welcome to world's first LCOS calculator!"
   ]
  },
  {
   "cell_type": "code",
   "execution_count": 2,
   "metadata": {
    "collapsed": true
   },
   "outputs": [],
   "source": [
    "import matplotlib.pylab as plt\n",
    "import numpy as np\n",
    "from ipywidgets import interact,FloatSlider,IntSlider\n",
    "%matplotlib inline"
   ]
  },
  {
   "cell_type": "code",
   "execution_count": 3,
   "metadata": {},
   "outputs": [
    {
     "data": {
      "application/vnd.jupyter.widget-view+json": {
       "model_id": "3a8e23e9eb6940218e57638b07016b49",
       "version_major": 2,
       "version_minor": 0
      },
      "text/plain": [
       "A Jupyter Widget"
      ]
     },
     "metadata": {},
     "output_type": "display_data"
    },
    {
     "data": {
      "text/plain": [
       "<function __main__.lcos_print>"
      ]
     },
     "execution_count": 3,
     "metadata": {},
     "output_type": "execute_result"
    }
   ],
   "source": [
    "def lcos_print(spec_cost, o_n_m, pv_lcoe, v_res, n, e, dod, life, i):\n",
    "    capex = e * spec_cost\n",
    "    opex = o_n_m + (dod*e*pv_lcoe)\n",
    "    flows = np.full(life+1, opex)\n",
    "    flows[0]=capex\n",
    "    lcc = np.npv(i,flows) + v_res\n",
    "    E = e*dod*n\n",
    "    flows_e = np.full(life+1, E)\n",
    "    flows_e[0]=0\n",
    "    e_dis = np.npv(i,flows_e)\n",
    "    lcos = lcc/e_dis\n",
    "    print(\"LCOS:\", lcos)\n",
    "\n",
    "spec_cost_slider = FloatSlider(min=0, max=1000, step=0.1, value=400)\n",
    "o_n_m_slider = FloatSlider(min=0, max=400, step=0.1, value=4)\n",
    "pv_lcoe_slider = FloatSlider(min=0, max=1, step=0.01, value=0.075)\n",
    "v_res_slider = FloatSlider(min=0, max=1000, step=0.1, value=0)\n",
    "n_slider = IntSlider(min=0, max=365, value=365)\n",
    "e_slider = FloatSlider(min=0, max=10000, step=0.1, value=1000)\n",
    "dod_slider = FloatSlider(min=0, max=1, step=0.01, value=0.8)\n",
    "life_slider = IntSlider(min=0, max=100, value=10)\n",
    "i_slider = FloatSlider(min=0, max=2, step=0.01, value=0.063)\n",
    "\n",
    "interact(lcos_print, spec_cost=spec_cost_slider, o_n_m = o_n_m_slider, pv_lcoe = pv_lcoe_slider, v_res = v_res_slider, \n",
    "         n = n_slider, e = e_slider, dod = dod_slider, life = life_slider, i = i_slider)"
   ]
  },
  {
   "cell_type": "code",
   "execution_count": null,
   "metadata": {
    "collapsed": true
   },
   "outputs": [],
   "source": []
  }
 ],
 "metadata": {
  "kernelspec": {
   "display_name": "Python 2",
   "language": "python",
   "name": "python2"
  },
  "language_info": {
   "codemirror_mode": {
    "name": "ipython",
    "version": 2
   },
   "file_extension": ".py",
   "mimetype": "text/x-python",
   "name": "python",
   "nbconvert_exporter": "python",
   "pygments_lexer": "ipython2",
   "version": "2.7.14"
  },
  "widgets": {
   "application/vnd.jupyter.widget-state+json": {
    "state": {},
    "version_major": 2,
    "version_minor": 0
   }
  }
 },
 "nbformat": 4,
 "nbformat_minor": 2
}
