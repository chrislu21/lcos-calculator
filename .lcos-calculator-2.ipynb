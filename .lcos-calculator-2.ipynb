{
 "cells": [
  {
   "cell_type": "markdown",
   "metadata": {},
   "source": [
    "# lcos-calculator.com"
   ]
  },
  {
   "cell_type": "markdown",
   "metadata": {},
   "source": [
    "Welcome to world's first LCOS calculator!\n",
    "\n",
    "You can calclate the \"Levelised Cost Of Storage\" for your project according to this formula:\n",
    "\n",
    "$$LCOS = \\frac{CAPEX + \\sum_{t=1}^{t=n} \\frac{OPEX_{t}}{(1+i)^t} + V_{\\mathrm{residual}}}{\\sum_{t=1}^{t=n} \\frac{E_{\\mathrm{discharge} \\: t}}{(1+i)^t}}$$"
   ]
  },
  {
   "cell_type": "code",
   "execution_count": 1,
   "metadata": {},
   "outputs": [],
   "source": [
    "import matplotlib.pylab as plt\n",
    "import numpy as np\n",
    "from ipywidgets import interact,FloatSlider,IntSlider,widgets\n",
    "from ipywidgets.embed import embed_minimal_html"
   ]
  },
  {
   "cell_type": "code",
   "execution_count": 2,
   "metadata": {},
   "outputs": [
    {
     "data": {
      "application/vnd.jupyter.widget-view+json": {
       "model_id": "5cbd13a3bf4844c6bb5d288e0b126b49",
       "version_major": 2,
       "version_minor": 0
      },
      "text/plain": [
       "interactive(children=(FloatSlider(value=400.0, description='spec_cost', max=1000.0), FloatSlider(value=4.0, de…"
      ]
     },
     "metadata": {},
     "output_type": "display_data"
    },
    {
     "data": {
      "text/plain": [
       "<function __main__.lcos_print(spec_cost, o_n_m, pv_lcoe, v_res, n, e, dod, life, i)>"
      ]
     },
     "execution_count": 2,
     "metadata": {},
     "output_type": "execute_result"
    }
   ],
   "source": [
    "def lcos_print(spec_cost, o_n_m, pv_lcoe, v_res, n, e, dod, life, i):\n",
    "    capex = e * spec_cost\n",
    "    opex = o_n_m + (dod*e*pv_lcoe)\n",
    "    flows = np.full(life+1, opex)\n",
    "    flows[0]=capex\n",
    "    lcc = np.npv(i,flows) + v_res\n",
    "    E = e*dod*n\n",
    "    flows_e = np.full(life+1, E)\n",
    "    flows_e[0]=0\n",
    "    e_dis = np.npv(i,flows_e)\n",
    "    lcos = lcc/e_dis\n",
    "    print(\"LCOS: {:.4f} US$/kWh\".format(lcos))\n",
    "\n",
    "spec_cost_slider = FloatSlider(min=0, max=1000, step=0.1, value=400, text = \"xxx\")\n",
    "o_n_m_slider = FloatSlider(min=0, max=400, step=0.1, value=4)\n",
    "pv_lcoe_slider = FloatSlider(min=0, max=1, step=0.01, value=0.075)\n",
    "v_res_slider = FloatSlider(min=0, max=1000, step=0.1, value=0)\n",
    "n_slider = IntSlider(min=0, max=365, value=365)\n",
    "e_slider = FloatSlider(min=0, max=10000, step=0.1, value=1000)\n",
    "dod_slider = FloatSlider(min=0, max=1, step=0.01, value=0.8)\n",
    "life_slider = IntSlider(min=0, max=100, value=10)\n",
    "i_slider = FloatSlider(min=0, max=2, step=0.01, value=0.063)\n",
    "\n",
    "interact(lcos_print, spec_cost=spec_cost_slider, o_n_m = o_n_m_slider, pv_lcoe = pv_lcoe_slider, v_res = v_res_slider, \n",
    "         n = n_slider, e = e_slider, dod = dod_slider, life = life_slider, i = i_slider)"
   ]
  },
  {
   "cell_type": "code",
   "execution_count": 3,
   "metadata": {},
   "outputs": [],
   "source": [
    "embed_minimal_html('export1.html', views=[spec_cost_slider, spec_cost_slider, o_n_m_slider, pv_lcoe_slider, v_res_slider, \n",
    "         n_slider, e_slider, dod_slider, life_slider, i_slider], title='Widgets export')"
   ]
  },
  {
   "cell_type": "code",
   "execution_count": null,
   "metadata": {},
   "outputs": [],
   "source": []
  },
  {
   "cell_type": "code",
   "execution_count": null,
   "metadata": {},
   "outputs": [],
   "source": []
  }
 ],
 "metadata": {
  "kernelspec": {
   "display_name": "Python 3",
   "language": "python",
   "name": "python3"
  },
  "language_info": {
   "codemirror_mode": {
    "name": "ipython",
    "version": 3
   },
   "file_extension": ".py",
   "mimetype": "text/x-python",
   "name": "python",
   "nbconvert_exporter": "python",
   "pygments_lexer": "ipython3",
   "version": "3.6.8"
  },
  "widgets": {
   "application/vnd.jupyter.widget-state+json": {
    "state": {},
    "version_major": 2,
    "version_minor": 0
   }
  }
 },
 "nbformat": 4,
 "nbformat_minor": 2
}
